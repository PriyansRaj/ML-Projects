{
 "cells": [
  {
   "cell_type": "code",
   "execution_count": 1,
   "id": "b64848d8-117a-4e3e-bf09-45394593d8c5",
   "metadata": {},
   "outputs": [],
   "source": [
    "import torch\n",
    "import torchvision\n",
    "import torchvision.transforms as transforms\n",
    "import torch.nn as nn\n",
    "import torch.optim as optim\n"
   ]
  },
  {
   "cell_type": "code",
   "execution_count": 2,
   "id": "6ed916d3-fded-461b-a671-265b91e7103b",
   "metadata": {},
   "outputs": [],
   "source": [
    "transform = transforms.Compose([\n",
    "    transforms.ToTensor(),\n",
    "    transforms.Normalize((0.5,),(0.5,))\n",
    "])"
   ]
  },
  {
   "cell_type": "code",
   "execution_count": 3,
   "id": "0ea23cdf-0990-4505-a75a-f165aaca20c2",
   "metadata": {},
   "outputs": [],
   "source": [
    "train_ds = torchvision.datasets.MNIST(root= \"/root\",train=True,download=True,transform= transform)"
   ]
  },
  {
   "cell_type": "code",
   "execution_count": 4,
   "id": "197d1d25-1c83-40ef-8fb0-8f7d2a2ee413",
   "metadata": {},
   "outputs": [],
   "source": [
    "test_dataset  =torchvision.datasets.MNIST(root=\"/root\",download =True,train=False,transform=transform)"
   ]
  },
  {
   "cell_type": "code",
   "execution_count": 5,
   "id": "3b33f798-55b2-4bdd-8092-d7fb04e1cee3",
   "metadata": {},
   "outputs": [],
   "source": [
    "train_loader = torch.utils.data.DataLoader(dataset =train_ds,batch_size=128,shuffle=True)\n",
    "test_loader = torch.utils.data.DataLoader(dataset = test_dataset,batch_size=128,shuffle= False)"
   ]
  },
  {
   "cell_type": "code",
   "execution_count": null,
   "id": "ae538b9c-4fe7-48e2-9f55-31c921547efa",
   "metadata": {},
   "outputs": [],
   "source": []
  },
  {
   "cell_type": "code",
   "execution_count": 43,
   "id": "297a5594-4632-4683-aef8-4989832d3aeb",
   "metadata": {},
   "outputs": [],
   "source": [
    "class NeuralNetwork(nn.Module):\n",
    "    def __init__(self):\n",
    "        super(NeuralNetwork,self).__init__()\n",
    "        self.hidden = nn.Linear(784,128)\n",
    "        self.relu= nn.ReLU()\n",
    "        self.output = nn.Linear(128,10)\n",
    "    def forward(self,x):\n",
    "        x = self.relu(self.hidden(x))\n",
    "        return self.output(x)"
   ]
  },
  {
   "cell_type": "code",
   "execution_count": 29,
   "id": "2dc3ec10-55a0-47e8-b631-2b728fc7b657",
   "metadata": {},
   "outputs": [],
   "source": [
    "model = NeuralNetwork()\n",
    "criterion = nn.CrossEntropyLoss()\n",
    "optimizer = optim.SGD(model.parameters(),lr=0.1)\n"
   ]
  },
  {
   "cell_type": "code",
   "execution_count": 45,
   "id": "dea9f6e7-7fdf-427c-b34e-a4f5b09f9e11",
   "metadata": {},
   "outputs": [
    {
     "name": "stdout",
     "output_type": "stream",
     "text": [
      "Epoch [1/50], Loss: 0.4903\n",
      "Epoch [2/50], Loss: 0.2297\n",
      "Epoch [3/50], Loss: 0.1729\n",
      "Epoch [4/50], Loss: 0.1412\n",
      "Epoch [5/50], Loss: 0.1196\n",
      "Epoch [6/50], Loss: 0.1049\n",
      "Epoch [7/50], Loss: 0.0929\n",
      "Epoch [8/50], Loss: 0.0828\n",
      "Epoch [9/50], Loss: 0.0763\n",
      "Epoch [10/50], Loss: 0.0687\n",
      "Epoch [11/50], Loss: 0.0638\n",
      "Epoch [12/50], Loss: 0.0591\n",
      "Epoch [13/50], Loss: 0.0544\n",
      "Epoch [14/50], Loss: 0.0508\n",
      "Epoch [15/50], Loss: 0.0480\n",
      "Epoch [16/50], Loss: 0.0446\n",
      "Epoch [17/50], Loss: 0.0417\n",
      "Epoch [18/50], Loss: 0.0385\n",
      "Epoch [19/50], Loss: 0.0369\n",
      "Epoch [20/50], Loss: 0.0333\n",
      "Epoch [21/50], Loss: 0.0318\n",
      "Epoch [22/50], Loss: 0.0303\n",
      "Epoch [23/50], Loss: 0.0285\n",
      "Epoch [24/50], Loss: 0.0267\n",
      "Epoch [25/50], Loss: 0.0253\n",
      "Epoch [26/50], Loss: 0.0233\n",
      "Epoch [27/50], Loss: 0.0216\n",
      "Epoch [28/50], Loss: 0.0202\n",
      "Epoch [29/50], Loss: 0.0191\n",
      "Epoch [30/50], Loss: 0.0183\n",
      "Epoch [31/50], Loss: 0.0177\n",
      "Epoch [32/50], Loss: 0.0159\n",
      "Epoch [33/50], Loss: 0.0155\n",
      "Epoch [34/50], Loss: 0.0141\n",
      "Epoch [35/50], Loss: 0.0136\n",
      "Epoch [36/50], Loss: 0.0127\n",
      "Epoch [37/50], Loss: 0.0121\n",
      "Epoch [38/50], Loss: 0.0111\n",
      "Epoch [39/50], Loss: 0.0104\n",
      "Epoch [40/50], Loss: 0.0097\n",
      "Epoch [41/50], Loss: 0.0095\n",
      "Epoch [42/50], Loss: 0.0090\n",
      "Epoch [43/50], Loss: 0.0086\n",
      "Epoch [44/50], Loss: 0.0078\n",
      "Epoch [45/50], Loss: 0.0073\n",
      "Epoch [46/50], Loss: 0.0071\n",
      "Epoch [47/50], Loss: 0.0066\n",
      "Epoch [48/50], Loss: 0.0063\n",
      "Epoch [49/50], Loss: 0.0061\n",
      "Epoch [50/50], Loss: 0.0057\n"
     ]
    }
   ],
   "source": [
    "losses = []\n",
    "epochs=50\n",
    "for epoch in range(epochs):\n",
    "    epoch_loss = 0\n",
    "    for images, labels in train_loader:\n",
    "        images = images.view(-1,784)\n",
    "        outputs = model(images)\n",
    "        loss = criterion(outputs,labels)\n",
    "        optimizer.zero_grad()\n",
    "        loss.backward()\n",
    "        optimizer.step()\n",
    "        epoch_loss += loss.item()\n",
    "    avg_loss = epoch_loss/len(train_loader)\n",
    "    losses.append(avg_loss)\n",
    "\n",
    "    print(f\"Epoch [{epoch+1}/{epochs}], Loss: {avg_loss:.4f}\")"
   ]
  },
  {
   "cell_type": "code",
   "execution_count": 47,
   "id": "1a5fbd95-ad89-4800-b31c-82d6a70553d8",
   "metadata": {},
   "outputs": [
    {
     "name": "stdout",
     "output_type": "stream",
     "text": [
      "Accuracy on test dataset: 97.97%\n"
     ]
    }
   ],
   "source": [
    "correct= 0\n",
    "total =0\n",
    "with torch.no_grad():\n",
    "    for images, labels in test_loader:\n",
    "        images = images.view(-1,784)\n",
    "        outputs=  model(images)\n",
    "        _,predicted =torch.max(outputs,1)\n",
    "       \n",
    "        total += labels.size(0)\n",
    "        correct +=(predicted == labels).sum().item()\n",
    "accuracy = 100 * correct / total\n",
    "print(f'Accuracy on test dataset: {accuracy:.2f}%')"
   ]
  },
  {
   "cell_type": "code",
   "execution_count": 49,
   "id": "b3096645-c197-48f9-905f-c000b5a4835b",
   "metadata": {},
   "outputs": [],
   "source": [
    "torch.save(model.state_dict(),\"Mnist1.pth\")"
   ]
  },
  {
   "cell_type": "code",
   "execution_count": null,
   "id": "77ca8cab-9b89-4615-83c5-4e4d88a1a50f",
   "metadata": {},
   "outputs": [],
   "source": []
  }
 ],
 "metadata": {
  "kernelspec": {
   "display_name": "Python [conda env:base] *",
   "language": "python",
   "name": "conda-base-py"
  },
  "language_info": {
   "codemirror_mode": {
    "name": "ipython",
    "version": 3
   },
   "file_extension": ".py",
   "mimetype": "text/x-python",
   "name": "python",
   "nbconvert_exporter": "python",
   "pygments_lexer": "ipython3",
   "version": "3.12.7"
  }
 },
 "nbformat": 4,
 "nbformat_minor": 5
}
